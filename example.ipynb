{
 "cells": [
  {
   "cell_type": "code",
   "execution_count": null,
   "id": "a267a79f",
   "metadata": {},
   "outputs": [],
   "source": [
    "from model_observers import ObserverCallback"
   ]
  },
  {
   "cell_type": "code",
   "execution_count": null,
   "id": "081233e0",
   "metadata": {},
   "outputs": [],
   "source": [
    "import telebot                 \n",
    "\n",
    "token = \"\"                          # your bot token\n",
    "temp_chat_id = \"\"                   # your numeric telegram id (not username!)\n",
    "bot = telebot.TeleBot(token)"
   ]
  },
  {
   "cell_type": "markdown",
   "id": "a29e5b36",
   "metadata": {},
   "source": [
    "You can check your **user id** using function below. Simply make a new bot via [BotFather](https://telegram.me/BotFather), run this cell and send `/myid` command."
   ]
  },
  {
   "cell_type": "code",
   "execution_count": null,
   "id": "4f5f8227",
   "metadata": {},
   "outputs": [],
   "source": [
    "@bot.message_handler(commands=['myid'])\n",
    "def get_user_id(message):\n",
    "    user_id = message.from_user.id\n",
    "    bot.reply_to(message, f\"Your user ID is: {user_id}\")\n",
    "\n",
    "bot.polling()  # Warning! Do not forget to close this cell"
   ]
  },
  {
   "cell_type": "markdown",
   "id": "85cace3c",
   "metadata": {},
   "source": [
    "Lets test our callback on a MNIST dataset"
   ]
  },
  {
   "cell_type": "code",
   "execution_count": null,
   "id": "4810ece1",
   "metadata": {},
   "outputs": [],
   "source": [
    "import tensorflow as tf\n",
    "from tensorflow import keras\n",
    "\n",
    "mnist = keras.datasets.mnist\n",
    "(X_train_full, y_train_full), (X_test, y_test) = mnist.load_data()\n",
    "\n",
    "X_train, y_train = X_train_full[:52000] / 255.0, y_train_full[:52000]\n",
    "train_set = tf.data.Dataset.from_tensor_slices((X_train, y_train)).shuffle(1024).batch(32).prefetch(tf.data.AUTOTUNE)\n",
    "\n",
    "X_valid, y_valid = X_train_full[52000:] / 255.0, y_train_full[52000:]\n",
    "valid_set = tf.data.Dataset.from_tensor_slices((X_valid, y_valid)).shuffle(1024).batch(32).prefetch(tf.data.AUTOTUNE)\n",
    "\n",
    "X_test, y_test = X_test[:] / 255.0, y_test[:]\n",
    "test_set = tf.data.Dataset.from_tensor_slices((X_test, y_test))"
   ]
  },
  {
   "cell_type": "code",
   "execution_count": 5,
   "id": "9fb0a0d1",
   "metadata": {},
   "outputs": [],
   "source": [
    "model = keras.Sequential([\n",
    "    keras.layers.Input(shape=(28, 28, 1)),\n",
    "    keras.layers.Conv2D(filters=32, kernel_size=(3, 3), activation='relu'),\n",
    "    keras.layers.MaxPool2D(pool_size=(2, 2)),\n",
    "    keras.layers.Conv2D(filters=64, kernel_size=(3, 3), activation='relu'),\n",
    "    keras.layers.MaxPool2D(pool_size=(2, 2)),\n",
    "    keras.layers.Flatten(),\n",
    "    keras.layers.Dense(128, activation='relu', kernel_initializer='he_normal'),\n",
    "    keras.layers.Dense(10, activation='softmax')\n",
    "])"
   ]
  },
  {
   "cell_type": "code",
   "execution_count": 6,
   "id": "625a9b31",
   "metadata": {},
   "outputs": [],
   "source": [
    "model.compile(loss=\"sparse_categorical_crossentropy\", optimizer=\"sgd\",\n",
    "              metrics=[\"accuracy\"])"
   ]
  },
  {
   "cell_type": "code",
   "execution_count": null,
   "id": "41493b1f",
   "metadata": {},
   "outputs": [
    {
     "name": "stdout",
     "output_type": "stream",
     "text": [
      "Epoch 1/5\n",
      "\u001b[1m1625/1625\u001b[0m \u001b[32m━━━━━━━━━━━━━━━━━━━━\u001b[0m\u001b[37m\u001b[0m \u001b[1m9s\u001b[0m 5ms/step - accuracy: 0.6663 - loss: 1.1319 - val_accuracy: 0.9511 - val_loss: 0.1726\n",
      "Epoch 2/5\n",
      "\u001b[1m1625/1625\u001b[0m \u001b[32m━━━━━━━━━━━━━━━━━━━━\u001b[0m\u001b[37m\u001b[0m \u001b[1m8s\u001b[0m 5ms/step - accuracy: 0.9484 - loss: 0.1719 - val_accuracy: 0.9682 - val_loss: 0.1104\n",
      "Epoch 3/5\n",
      "\u001b[1m1625/1625\u001b[0m \u001b[32m━━━━━━━━━━━━━━━━━━━━\u001b[0m\u001b[37m\u001b[0m \u001b[1m8s\u001b[0m 5ms/step - accuracy: 0.9667 - loss: 0.1099 - val_accuracy: 0.9747 - val_loss: 0.0858\n",
      "Epoch 4/5\n",
      "\u001b[1m1625/1625\u001b[0m \u001b[32m━━━━━━━━━━━━━━━━━━━━\u001b[0m\u001b[37m\u001b[0m \u001b[1m8s\u001b[0m 5ms/step - accuracy: 0.9748 - loss: 0.0860 - val_accuracy: 0.9775 - val_loss: 0.0787\n",
      "Epoch 5/5\n",
      "\u001b[1m1625/1625\u001b[0m \u001b[32m━━━━━━━━━━━━━━━━━━━━\u001b[0m\u001b[37m\u001b[0m \u001b[1m9s\u001b[0m 5ms/step - accuracy: 0.9789 - loss: 0.0721 - val_accuracy: 0.9786 - val_loss: 0.0728\n"
     ]
    },
    {
     "data": {
      "text/plain": [
       "<keras.src.callbacks.history.History at 0x2e883b20450>"
      ]
     },
     "execution_count": 7,
     "metadata": {},
     "output_type": "execute_result"
    }
   ],
   "source": [
    "model.fit(train_set, epochs=5, validation_data=valid_set, callbacks=[ObserverCallback(token, temp_chat_id)])"
   ]
  },
  {
   "cell_type": "markdown",
   "id": "0dd5dbc1",
   "metadata": {},
   "source": [
    "Thats all! As you can see, all you need is to:\n",
    "1. Make a **bot token**\n",
    "2. Check out your **telegram id**\n",
    "3. Run the model using **ObserverCallback** class"
   ]
  },
  {
   "cell_type": "markdown",
   "id": "8f562af0",
   "metadata": {},
   "source": []
  }
 ],
 "metadata": {
  "kernelspec": {
   "display_name": "Python 3",
   "language": "python",
   "name": "python3"
  },
  "language_info": {
   "codemirror_mode": {
    "name": "ipython",
    "version": 3
   },
   "file_extension": ".py",
   "mimetype": "text/x-python",
   "name": "python",
   "nbconvert_exporter": "python",
   "pygments_lexer": "ipython3",
   "version": "3.11.9"
  }
 },
 "nbformat": 4,
 "nbformat_minor": 5
}
